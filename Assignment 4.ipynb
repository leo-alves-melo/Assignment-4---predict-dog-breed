{
 "cells": [
  {
   "cell_type": "markdown",
   "metadata": {},
   "source": [
    "1. Engineer your features. Here you do not have them for free. You need to think of possible ways for transforming the collected data into meaningful features. For some ideas, consider traditional features such as texture features, color features, bags of visual words or more powerful ones involving CNNs. If you cannot think of anything, talk to the professor for some ideas.\n",
    "\n",
    "2. Propose classification techniques to solve the problem. Suggestions here are the CNN directly, or SVMs/Random Forests allied with CNNs through the use of transfer learning.\n",
    "\n",
    "3. Consider using data augmentation in the training (what about in the testing as well?)\n",
    "\n",
    "4. Observation: You are free to use any solution to help you extract the features at this point.\n",
    "\n",
    "5. Report all of your results for the validation and test data. The labels for the test will be released one week before the deadline."
   ]
  },
  {
   "cell_type": "code",
   "execution_count": 10,
   "metadata": {},
   "outputs": [],
   "source": [
    "#imports\n",
    "from glob import glob\n",
    "from skimage import io"
   ]
  },
  {
   "cell_type": "code",
   "execution_count": 11,
   "metadata": {
    "collapsed": true
   },
   "outputs": [],
   "source": [
    "#Definicoes\n",
    "dataFolder = 'data/'\n",
    "trainFolder = dataFolder + 'train/'\n",
    "validationFolder = dataFolder + 'val/'\n",
    "testFolder = dataFolder + 'test/'"
   ]
  },
  {
   "cell_type": "code",
   "execution_count": 12,
   "metadata": {
    "collapsed": true
   },
   "outputs": [],
   "source": [
    "#Funcoes\n",
    "\n",
    "#Retorna o vetor da imagem dado o nome do seu arquivo\n",
    "def le_imagem(name):\n",
    "    return io.imread(name,plugin='matplotlib') \n",
    "\n",
    "#Retorna o vetor da imagem e a classe dado o caminho do arquivo\n",
    "def le_imagem_e_classe(name):\n",
    "    img = le_imagem(name)\n",
    "    classe = int(name.split('/')[2].split('_')[0])\n",
    "    return img, classe\n",
    "\n",
    "#Retorna o caminho de todas as imagens dado a pasta\n",
    "def nome_das_imagens(pasta):\n",
    "    return glob(pasta + *)"
   ]
  },
  {
   "cell_type": "code",
   "execution_count": 13,
   "metadata": {},
   "outputs": [
    {
     "name": "stdout",
     "output_type": "stream",
     "text": [
      "(array([[[205, 181, 181],\n",
      "        [206, 182, 182],\n",
      "        [206, 182, 182],\n",
      "        ...,\n",
      "        [184, 172, 176],\n",
      "        [184, 172, 176],\n",
      "        [184, 172, 176]],\n",
      "\n",
      "       [[206, 182, 182],\n",
      "        [206, 182, 182],\n",
      "        [206, 182, 182],\n",
      "        ...,\n",
      "        [184, 172, 176],\n",
      "        [184, 172, 176],\n",
      "        [184, 172, 176]],\n",
      "\n",
      "       [[208, 184, 184],\n",
      "        [207, 183, 183],\n",
      "        [207, 183, 183],\n",
      "        ...,\n",
      "        [184, 172, 176],\n",
      "        [184, 172, 176],\n",
      "        [184, 172, 176]],\n",
      "\n",
      "       ...,\n",
      "\n",
      "       [[191, 170, 165],\n",
      "        [185, 164, 159],\n",
      "        [191, 170, 165],\n",
      "        ...,\n",
      "        [172, 148, 144],\n",
      "        [170, 146, 142],\n",
      "        [169, 145, 141]],\n",
      "\n",
      "       [[193, 172, 167],\n",
      "        [187, 166, 161],\n",
      "        [193, 172, 167],\n",
      "        ...,\n",
      "        [175, 151, 147],\n",
      "        [174, 150, 146],\n",
      "        [173, 149, 145]],\n",
      "\n",
      "       [[188, 167, 162],\n",
      "        [183, 162, 157],\n",
      "        [191, 170, 165],\n",
      "        ...,\n",
      "        [176, 152, 148],\n",
      "        [175, 151, 147],\n",
      "        [176, 152, 148]]], dtype=uint8), 0)\n"
     ]
    }
   ],
   "source": [
    "print(nome_das_imagens())"
   ]
  }
 ],
 "metadata": {
  "kernelspec": {
   "display_name": "Python 3",
   "language": "python",
   "name": "python3"
  },
  "language_info": {
   "codemirror_mode": {
    "name": "ipython",
    "version": 3
   },
   "file_extension": ".py",
   "mimetype": "text/x-python",
   "name": "python",
   "nbconvert_exporter": "python",
   "pygments_lexer": "ipython3",
   "version": "3.6.4"
  }
 },
 "nbformat": 4,
 "nbformat_minor": 2
}
